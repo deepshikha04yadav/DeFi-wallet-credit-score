{
 "cells": [
  {
   "cell_type": "code",
   "execution_count": 2,
   "id": "7ee79907",
   "metadata": {},
   "outputs": [],
   "source": [
    "import pandas as pd\n",
    "import numpy as np\n",
    "import os\n",
    "import json"
   ]
  },
  {
   "cell_type": "code",
   "execution_count": null,
   "id": "14c85978",
   "metadata": {},
   "outputs": [],
   "source": [
    "from feature_engineering import extract_features"
   ]
  },
  {
   "cell_type": "code",
   "execution_count": 10,
   "id": "3346fd39",
   "metadata": {},
   "outputs": [],
   "source": [
    "with open(\"D:\\\\Python_Training\\\\aave-wallet-credit-scoring\\\\data\\\\user-wallet-transactions.json\", 'r') as f:\n",
    "    transactions = json.load(f)"
   ]
  },
  {
   "cell_type": "code",
   "execution_count": 12,
   "id": "17cfd63b",
   "metadata": {},
   "outputs": [
    {
     "name": "stderr",
     "output_type": "stream",
     "text": [
      "Extracting Features: 100%|██████████| 100000/100000 [00:00<00:00, 490779.42it/s]"
     ]
    },
    {
     "name": "stdout",
     "output_type": "stream",
     "text": [
      "  wallet  total_tx  active_days  deposit_count  borrow_count  repay_count  \\\n",
      "0   None    100000          155          37808         17086        12553   \n",
      "\n",
      "   redeem_count  liquidation_count  repay_ratio  liquidation_ratio  \\\n",
      "0         32305                248          1.0            0.00248   \n",
      "\n",
      "   borrow_to_deposit  \n",
      "0                0.0  \n"
     ]
    },
    {
     "name": "stderr",
     "output_type": "stream",
     "text": [
      "\n"
     ]
    }
   ],
   "source": [
    "df_features = extract_features(transactions)\n",
    "df_features.to_csv(\"outputs/wallet_features.csv\", index=False)\n",
    "print(df_features.head())\n"
   ]
  },
  {
   "cell_type": "code",
   "execution_count": 3,
   "id": "bc952a09",
   "metadata": {},
   "outputs": [
    {
     "name": "stdout",
     "output_type": "stream",
     "text": [
      "Mean Credit Score   : 868.80\n",
      "Median Credit Score : 945.00\n",
      "Std. Deviation      : 177.87\n",
      "Wallets Scored      : 3,497\n"
     ]
    }
   ],
   "source": [
    "df_scores = pd.read_csv('outputs/scores.csv')\n",
    "\n",
    "# Compute statistics\n",
    "mean_score = df_scores['credit_score'].mean()\n",
    "median_score = df_scores['credit_score'].median()\n",
    "std_dev = df_scores['credit_score'].std()\n",
    "count = df_scores['credit_score'].count()\n",
    "\n",
    "# Print for analysis.md\n",
    "print(f\"Mean Credit Score   : {mean_score:.2f}\")\n",
    "print(f\"Median Credit Score : {median_score:.2f}\")\n",
    "print(f\"Std. Deviation      : {std_dev:.2f}\")\n",
    "print(f\"Wallets Scored      : {count:,}\")"
   ]
  },
  {
   "cell_type": "code",
   "execution_count": null,
   "id": "8d51f63d",
   "metadata": {},
   "outputs": [],
   "source": []
  }
 ],
 "metadata": {
  "kernelspec": {
   "display_name": "defienv",
   "language": "python",
   "name": "python3"
  },
  "language_info": {
   "codemirror_mode": {
    "name": "ipython",
    "version": 3
   },
   "file_extension": ".py",
   "mimetype": "text/x-python",
   "name": "python",
   "nbconvert_exporter": "python",
   "pygments_lexer": "ipython3",
   "version": "3.12.2"
  }
 },
 "nbformat": 4,
 "nbformat_minor": 5
}
